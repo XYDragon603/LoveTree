{
  "cells": [
    {
      "cell_type": "markdown",
      "metadata": {
        "id": "view-in-github",
        "colab_type": "text"
      },
      "source": [
        "<a href=\"https://colab.research.google.com/github/XYDragon603/LoveTree/blob/master/lect01/05%20Root%20Finding.ipynb\" target=\"_parent\"><img src=\"https://colab.research.google.com/assets/colab-badge.svg\" alt=\"Open In Colab\"/></a>"
      ]
    },
    {
      "cell_type": "markdown",
      "metadata": {
        "id": "3FAulxftXVsG"
      },
      "source": [
        "# Important\n",
        "To Execute a cell. Press Shift+Enter or Ctrl+Enter"
      ]
    },
    {
      "cell_type": "code",
      "execution_count": null,
      "metadata": {
        "collapsed": true,
        "id": "YXIg1kefXVsL"
      },
      "outputs": [],
      "source": [
        "#load all the necessary libraries\n",
        "%matplotlib inline\n",
        "from matplotlib import pyplot as plt\n",
        "import numpy as np\n",
        "import math"
      ]
    },
    {
      "cell_type": "markdown",
      "metadata": {
        "id": "mBR1dae7XVsN"
      },
      "source": [
        "# Root Finding"
      ]
    },
    {
      "cell_type": "markdown",
      "metadata": {
        "id": "1YaNDQIPXVsO"
      },
      "source": [
        "## Consider $x = cos(x)$. Our goal is to solve for x that satisfy that.\n",
        "\n",
        "Plot something that helps you solve it."
      ]
    },
    {
      "cell_type": "code",
      "execution_count": null,
      "metadata": {
        "collapsed": true,
        "id": "WR42DZ3KXVsP"
      },
      "outputs": [],
      "source": []
    },
    {
      "cell_type": "markdown",
      "metadata": {
        "id": "58fQdblaXVsP"
      },
      "source": [
        "## Given the what you did what is your answer?"
      ]
    },
    {
      "cell_type": "code",
      "execution_count": null,
      "metadata": {
        "collapsed": true,
        "id": "HDPhhJteXVsQ"
      },
      "outputs": [],
      "source": []
    },
    {
      "cell_type": "markdown",
      "metadata": {
        "id": "Ao6XjMePXVsR"
      },
      "source": [
        "## How accurate is your answer?\n",
        "$answer = \\ldots \\pm \\ldots$\n",
        "\n",
        "Accuracy is also an important part for numerical algorithm --> How fast we can improve our accuracy."
      ]
    },
    {
      "cell_type": "code",
      "execution_count": null,
      "metadata": {
        "collapsed": true,
        "id": "E-LXidGnXVsS"
      },
      "outputs": [],
      "source": []
    },
    {
      "cell_type": "markdown",
      "metadata": {
        "id": "1mvIU8QJXVsS"
      },
      "source": [
        "## Make it more accurate"
      ]
    },
    {
      "cell_type": "code",
      "execution_count": null,
      "metadata": {
        "id": "v05hF5_IXVsT"
      },
      "outputs": [],
      "source": []
    },
    {
      "cell_type": "markdown",
      "metadata": {
        "id": "A_oOxy7qXVsT"
      },
      "source": [
        "## Write the equation above as $f(x)= 0$"
      ]
    },
    {
      "cell_type": "code",
      "execution_count": null,
      "metadata": {
        "id": "NaW1iHlXXVsU"
      },
      "outputs": [],
      "source": []
    },
    {
      "cell_type": "markdown",
      "metadata": {
        "id": "pu9DhTw6XVsU"
      },
      "source": [
        "# Bisection"
      ]
    },
    {
      "cell_type": "markdown",
      "metadata": {
        "id": "PIjAs_3LXVsU"
      },
      "source": [
        "## If you use a bisection method and your starting bound is $x=0.2$ and $x=1.2$, how do you know that there is a solution by looking only at $f(0.2)$ and $f(1.2)$"
      ]
    },
    {
      "cell_type": "code",
      "execution_count": null,
      "metadata": {
        "id": "NUu_7bB9XVsV"
      },
      "outputs": [],
      "source": []
    },
    {
      "cell_type": "markdown",
      "metadata": {
        "id": "-L4COmAoXVsV"
      },
      "source": [
        "## Plot the graph along with the two vertical line representing the bound. (use plt.axvline)"
      ]
    },
    {
      "cell_type": "code",
      "execution_count": null,
      "metadata": {
        "id": "d2piyIp1XVsW"
      },
      "outputs": [],
      "source": []
    },
    {
      "cell_type": "markdown",
      "metadata": {
        "id": "WAN4LTAxXVsW"
      },
      "source": [
        "## If we guess right in the middle of the two bound what would be the error on our guess?\n",
        "$$\n",
        "    answer = \\ldots \\pm \\ldots\n",
        "$$\n"
      ]
    },
    {
      "cell_type": "code",
      "execution_count": null,
      "metadata": {
        "id": "S4HVY8w3XVsW"
      },
      "outputs": [],
      "source": []
    },
    {
      "cell_type": "markdown",
      "metadata": {
        "id": "5_eSpfDnXVsX"
      },
      "source": [
        "## If you want to make a new pair of bound which pair would you pick? How did you know?"
      ]
    },
    {
      "cell_type": "code",
      "execution_count": null,
      "metadata": {
        "id": "reMHmj7SXVsX"
      },
      "outputs": [],
      "source": []
    },
    {
      "cell_type": "markdown",
      "metadata": {
        "id": "GA6oHqFXXVsX"
      },
      "source": [
        "## Write a function which find solution to f(x)=0 using the method you just discovered. Try plotting as you go."
      ]
    },
    {
      "cell_type": "code",
      "execution_count": null,
      "metadata": {
        "id": "znYCDgIPXVsX"
      },
      "outputs": [],
      "source": []
    },
    {
      "cell_type": "markdown",
      "metadata": {
        "id": "wg4VCZr8XVsX"
      },
      "source": [
        "## Given that the intial bound is of size $S$. After $n$ iterations how accurate is your answer?\n",
        "\n",
        "$$\\text{error}(n) = \\ldots$$"
      ]
    },
    {
      "cell_type": "code",
      "execution_count": null,
      "metadata": {
        "id": "ln1yyDN3XVsX"
      },
      "outputs": [],
      "source": []
    },
    {
      "cell_type": "markdown",
      "metadata": {
        "id": "EDEjZj44XVsY"
      },
      "source": [
        "## Give me the solution to  $x=cos(x)$ that is at most  $10^{−6}$ away from the real answer. Verify your solution graphically."
      ]
    },
    {
      "cell_type": "code",
      "execution_count": null,
      "metadata": {
        "id": "VjC5YUfXXVsY"
      },
      "outputs": [],
      "source": []
    },
    {
      "cell_type": "markdown",
      "metadata": {
        "id": "btQTLSWvXVsZ"
      },
      "source": [
        "# Newton's Method\n",
        "Let us do someting a bit more efficient. Suppose that we want to solve  $x^3−x=1$  using Newtons's method with initial guess at  $x=2$ . If you start to get lost, PLOT!."
      ]
    },
    {
      "cell_type": "markdown",
      "metadata": {
        "id": "xxhlJm8xXVsZ"
      },
      "source": [
        "## What is the function that we are trying to find intercept? Plot it."
      ]
    },
    {
      "cell_type": "code",
      "execution_count": null,
      "metadata": {
        "id": "-2pivV43XVsZ"
      },
      "outputs": [],
      "source": []
    },
    {
      "cell_type": "markdown",
      "metadata": {
        "id": "CYRcanXmXVsZ"
      },
      "source": [
        "## What is the slope of the tangent line at $x=2$"
      ]
    },
    {
      "cell_type": "code",
      "execution_count": null,
      "metadata": {
        "id": "8mEfLCI8XVsa"
      },
      "outputs": [],
      "source": []
    },
    {
      "cell_type": "markdown",
      "metadata": {
        "id": "jc_SgSVYXVsa"
      },
      "source": [
        "## What is the equation for the tangent line at  $x=2$ Plot it along with the function."
      ]
    },
    {
      "cell_type": "code",
      "execution_count": null,
      "metadata": {
        "id": "IX0rv2dBXVsa"
      },
      "outputs": [],
      "source": []
    },
    {
      "cell_type": "markdown",
      "metadata": {
        "id": "hO5rRyACXVsb"
      },
      "source": [
        "## What is the intercept for that line? That's your new guess."
      ]
    },
    {
      "cell_type": "code",
      "execution_count": null,
      "metadata": {
        "id": "aOOYiNRQXVsb"
      },
      "outputs": [],
      "source": []
    },
    {
      "cell_type": "markdown",
      "metadata": {
        "id": "bNA7T6L9XVsb"
      },
      "source": [
        "## Now combine everything in to one formula you should get something along the line of\n",
        "\n",
        "$$\n",
        "x_{n+1} = \\ldots - \\frac{\\ldots(x_n)}{\\ldots(x_n)}\n",
        "$$\n",
        "\n",
        "This is called update rule; how you get an improved answer from the previous guess."
      ]
    },
    {
      "cell_type": "code",
      "execution_count": null,
      "metadata": {
        "id": "haI9B_GGXVsb"
      },
      "outputs": [],
      "source": []
    },
    {
      "cell_type": "markdown",
      "metadata": {
        "id": "z0nZ_2oAXVsi"
      },
      "source": [
        "## Newton's method converges very very quickly. We will go through the derivation later on.\n",
        "Now find solution to $x^3−x=1$. Also as a plotting exercise try make something similar to this figure:\n",
        "\n",
        "Here is how I annotate the figure\n",
        "`plt.annotate('x%d'%i, xy=(x, 0), xytext=(x,-0.2), fontsize=18)`\n",
        "\n",
        "<div>\n",
        "<img src=\"attachment:trythis.png\" width=\"600\"/>\n",
        "</div>\n"
      ]
    },
    {
      "cell_type": "markdown",
      "metadata": {
        "id": "vCQzLvZJXVsi"
      },
      "source": [
        "## Solve $\\sqrt[3]{x}=0$ by hand. What's $x$?"
      ]
    },
    {
      "cell_type": "code",
      "execution_count": null,
      "metadata": {
        "id": "fRcS3LzBXVsj"
      },
      "outputs": [],
      "source": []
    },
    {
      "cell_type": "code",
      "execution_count": 2,
      "metadata": {
        "colab": {
          "base_uri": "https://localhost:8080/",
          "height": 582
        },
        "id": "cXqZeSE0XVsi",
        "outputId": "3c7cb72c-cc48-4abf-dcda-fe3708a1817e"
      },
      "outputs": [
        {
          "output_type": "stream",
          "name": "stdout",
          "text": [
            "Converged after 6 iterations. Solution: 1.324717957244746\n"
          ]
        },
        {
          "output_type": "display_data",
          "data": {
            "text/plain": [
              "<Figure size 800x600 with 1 Axes>"
            ],
            "image/png": "[encoded data removed]"
          },
          "metadata": {}
        }
      ],
      "source": [
        "# Define the function f(x) and its derivative f'(x)\n",
        "#load all the necessary libraries\n",
        "%matplotlib inline\n",
        "from matplotlib import pyplot as plt\n",
        "import numpy as np\n",
        "import math\n",
        "\n",
        "def f(x):\n",
        "    return x**3 - x - 1\n",
        "\n",
        "def df(x):\n",
        "    return 3*x**2 - 1\n",
        "\n",
        "# Newton's method implementation with plotting\n",
        "def newtons_method(x0, tol=1e-6, max_iter=100):\n",
        "    x = x0\n",
        "    iterations = [x]\n",
        "\n",
        "    plt.figure(figsize=(8, 6))\n",
        "    x_vals = np.linspace(x0 - 2, x0 + 2, 400)\n",
        "    plt.plot(x_vals, f(x_vals), label='$f(x) = x^3 - x - 1$')\n",
        "\n",
        "    for i in range(max_iter):\n",
        "        f_x = f(x)\n",
        "        df_x = df(x)\n",
        "\n",
        "        if abs(df_x) < 1e-10:  # Avoid division by zero\n",
        "            print(\"Derivative is close to zero. Newton's method fails.\")\n",
        "            return None, iterations\n",
        "\n",
        "        x_new = x - f_x / df_x\n",
        "        iterations.append(x_new)\n",
        "\n",
        "        # Plot tangent line\n",
        "        tangent_line = df_x * (x_vals - x) + f_x\n",
        "        plt.plot(x_vals, tangent_line, 'k--', alpha=0.5)\n",
        "        plt.plot(x, 0, 'ro') # Mark the x-intercept of the tangent\n",
        "        plt.annotate('x%d'%i, xy=(x, 0), xytext=(x,-0.2), fontsize=12)\n",
        "\n",
        "\n",
        "        if abs(x_new - x) < tol:\n",
        "            print(f\"Converged after {i+1} iterations. Solution: {x_new}\")\n",
        "            plt.axhline(0, color='grey', linestyle='--')\n",
        "            plt.xlabel('x')\n",
        "            plt.ylabel('f(x)')\n",
        "            plt.title(\"Newton's Method Iterations\")\n",
        "            plt.legend()\n",
        "            plt.ylim(-5,5)\n",
        "            plt.show()\n",
        "            return x_new, iterations\n",
        "\n",
        "        x = x_new\n",
        "\n",
        "    print(\"Maximum iterations reached. No convergence.\")\n",
        "    plt.axhline(0, color='grey', linestyle='--')\n",
        "    plt.xlabel('x')\n",
        "    plt.ylabel('f(x)')\n",
        "    plt.title(\"Newton's Method Iterations\")\n",
        "    plt.legend()\n",
        "    plt.show()\n",
        "    return None, iterations\n",
        "\n",
        "# Find the solution starting with x0 = 2\n",
        "solution, iterations = newtons_method(2)"
      ]
    },
    {
      "cell_type": "markdown",
      "metadata": {
        "id": "rGyL_CJTXVsj"
      },
      "source": [
        "## Try Newton's method on it.\n",
        "Try plotting as you go to see what's going on.\n",
        "\n",
        "Now you learn that even though it converges super fast. It doesn't guarantee to converge."
      ]
    },
    {
      "cell_type": "code",
      "execution_count": null,
      "metadata": {
        "id": "hXPHojzjXVsj"
      },
      "outputs": [],
      "source": []
    },
    {
      "cell_type": "markdown",
      "metadata": {
        "id": "dTB1xUVDXVsj"
      },
      "source": [
        "# Bonus\n"
      ]
    },
    {
      "cell_type": "markdown",
      "metadata": {
        "id": "Cctb3FrCXVsk"
      },
      "source": [
        "## Simplify (1+x)-1"
      ]
    },
    {
      "cell_type": "code",
      "execution_count": null,
      "metadata": {
        "id": "f7DZzSjzXVsk"
      },
      "outputs": [],
      "source": []
    },
    {
      "cell_type": "markdown",
      "metadata": {
        "id": "fwxfHHmfXVsk"
      },
      "source": [
        "## Then why is this false"
      ]
    },
    {
      "cell_type": "code",
      "execution_count": null,
      "metadata": {
        "id": "LDdWnfsmXVsl",
        "outputId": "2dae0e7c-e83d-428f-82be-a48f6e33669f"
      },
      "outputs": [
        {
          "name": "stdout",
          "output_type": "stream",
          "text": [
            "1e-10\n",
            "False\n"
          ]
        }
      ],
      "source": [
        "x = 1e-10\n",
        "print (x)\n",
        "print ((1+x)-1 == x)"
      ]
    }
  ],
  "metadata": {
    "hide_input": false,
    "kernelspec": {
      "display_name": "iccs-205-numerical-computation-QOrFbCh5-py3.12",
      "language": "python",
      "name": "python3"
    },
    "language_info": {
      "codemirror_mode": {
        "name": "ipython",
        "version": 3
      },
      "file_extension": ".py",
      "mimetype": "text/x-python",
      "name": "python",
      "nbconvert_exporter": "python",
      "pygments_lexer": "ipython3",
      "version": "3.12.11"
    },
    "toc": {
      "colors": {
        "hover_highlight": "#DAA520",
        "running_highlight": "#FF0000",
        "selected_highlight": "#FFD700"
      },
      "moveMenuLeft": true,
      "nav_menu": {
        "height": "84px",
        "width": "252px"
      },
      "navigate_menu": true,
      "number_sections": true,
      "sideBar": true,
      "threshold": 4,
      "toc_cell": false,
      "toc_section_display": "block",
      "toc_window_display": true
    },
    "colab": {
      "provenance": [],
      "include_colab_link": true
    }
  },
  "nbformat": 4,
  "nbformat_minor": 0
}